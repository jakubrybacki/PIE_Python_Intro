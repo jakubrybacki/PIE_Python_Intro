{
  "nbformat": 4,
  "nbformat_minor": 0,
  "metadata": {
    "colab": {
      "provenance": [],
      "toc_visible": true
    },
    "kernelspec": {
      "name": "python3",
      "display_name": "Python 3"
    },
    "language_info": {
      "name": "python"
    }
  },
  "cells": [
    {
      "cell_type": "markdown",
      "source": [
        "# Webscrapping - Beautiful Soup\n",
        "Alternatywą dla API jest pobieranie informacji bezpośrednio z witryn.\n",
        "\n",
        "Służy do tego kilka pakietów - zaczniemy od prostych stron bez większych interakcji z użytkownikiem.\n",
        "\n",
        "Tu przyda nam się pakiet **Beautiful Soup**.\n",
        "\n",
        "Do ściągania przyda nam się kilka pakietów:\n"
      ],
      "metadata": {
        "id": "aQV2RpL14eKg"
      }
    },
    {
      "cell_type": "code",
      "source": [
        "from bs4 import BeautifulSoup\n",
        "import requests\n",
        "import pandas as pd\n",
        "import time"
      ],
      "metadata": {
        "id": "rnx_xMFAXiFp"
      },
      "execution_count": null,
      "outputs": []
    },
    {
      "cell_type": "markdown",
      "source": [
        "Ściągniemy aktualności dla portalu dotyczącego rynku płatniczego:\n",
        "\n",
        "https://www.kir.pl/aktualnosci"
      ],
      "metadata": {
        "id": "L3LfQZJyXv6x"
      }
    },
    {
      "cell_type": "markdown",
      "source": [
        "Na początku zakodujemy w zminnej nazwę strony i numer z aktualnościami:"
      ],
      "metadata": {
        "id": "JPxHnojAh29t"
      }
    },
    {
      "cell_type": "code",
      "source": [
        " webURL = \"https://www.kir.pl/aktualnosci\""
      ],
      "metadata": {
        "id": "VIdTv_HnXvgo"
      },
      "execution_count": null,
      "outputs": []
    },
    {
      "cell_type": "markdown",
      "source": [
        "Na początku chcemy pobrać zawartość naszej strony. Tu warto wiedzieć o jednej sztuczce. Przeglądarki internetowe podczas połączeń podają serwerom tzw. *User-Agent string* - ciąg znaków, który mówi o przeglądarce i systemie operacyjnym.\n",
        "\n",
        "https://pl.wikipedia.org/wiki/User_agent\n",
        "\n",
        "Informacje jak wyglądają takie łańcuchy znajdują się na stronach deweloperskich przeglądarek:\n",
        "*   Chrome: https://www.whatismybrowser.com/guides/the-latest-user-agent/chrome\n",
        "*   Firefox: https://developer.mozilla.org/en-US/docs/Web/HTTP/Headers/User-Agent\n",
        "\n",
        "Zastosowanie takiego łańcucha jest często konieczne, aby otrzymać zawartość strony. Robi się to tak:"
      ],
      "metadata": {
        "id": "jn4AD0LihBgX"
      }
    },
    {
      "cell_type": "code",
      "source": [
        "# Słownik z UA String:\n",
        "headers = {'User-Agent': 'Mozilla/5.0 (X11; CrOS x86_64 8172.45.0) AppleWebKit/537.36 (KHTML, like Gecko) Chrome/51.0.2704.64 Safari/537.36'}\n",
        "\n",
        "# Pobieramy stronę\n",
        "page = requests.get(webURL, headers = headers)"
      ],
      "metadata": {
        "id": "DP_VaULwiAMO"
      },
      "execution_count": null,
      "outputs": []
    },
    {
      "cell_type": "markdown",
      "source": [
        "Kolejnym krokiem jest uruchomienie obiektu BS, który będzie czytał naszą stronę."
      ],
      "metadata": {
        "id": "6fSlIPhGj3pa"
      }
    },
    {
      "cell_type": "code",
      "source": [
        "soup = BeautifulSoup(page.content, 'html.parser', from_encoding=\"utf-8\")"
      ],
      "metadata": {
        "id": "KIADggTdkK2m"
      },
      "execution_count": null,
      "outputs": []
    },
    {
      "cell_type": "markdown",
      "source": [
        "Cała praca z obiektem to w zasadzie powtarzanie dwóch elementów kodu.\n",
        "\n",
        "Jego określenie będzie wymagać spędzenia czasu z przeglądarką."
      ],
      "metadata": {
        "id": "asc9psOfkX0E"
      }
    },
    {
      "cell_type": "code",
      "source": [
        "# Klasa elementu strony, której szukamy:\n",
        "statName = \"img-text__title\"\n",
        "\n",
        "# Polecenie find.all pobiera wszytskie elementy\n",
        "temp = soup.find_all(class_= statName)\n",
        "\n",
        "# Ta komenda pobierze tekst\n",
        "tempList = [pt.get_text() for pt in temp]\n",
        "\n",
        "# Drukujemy tekst\n",
        "print(tempList)"
      ],
      "metadata": {
        "id": "onZzooRnkXSs"
      },
      "execution_count": null,
      "outputs": []
    },
    {
      "cell_type": "code",
      "source": [
        "# Drukowanie elementów - tabulatory\n",
        "print(*tempList)"
      ],
      "metadata": {
        "id": "a-0lCLxUl7Hu"
      },
      "execution_count": null,
      "outputs": []
    },
    {
      "cell_type": "markdown",
      "source": [
        "**Ćwiczenie** - zmień kod, aby wyświetlić teksty opisów, zamiast nagłówków"
      ],
      "metadata": {
        "id": "HCP4V4v8mOyY"
      }
    },
    {
      "cell_type": "code",
      "source": [],
      "metadata": {
        "id": "3YICYm87mO85"
      },
      "execution_count": null,
      "outputs": []
    },
    {
      "cell_type": "markdown",
      "source": [
        "### BS - pobieranie linków\n",
        "\n",
        "Możmey wykorzystać pakiet, aby znajdować dowolne elementy na stronie i ich atrybuty. Ten bloczek kodu pozwoli na zebranie wszystkich linków na stronie - zarówno wewnętrznych i wewnętrznych.\n",
        "\n",
        "Dzieki temu mogę np. zmapowac strony i poruszać się po kolejnych informacjach."
      ],
      "metadata": {
        "id": "AE6gji1umdZf"
      }
    },
    {
      "cell_type": "code",
      "source": [
        "for link in soup.findAll('a'):\n",
        "    print(link.get('href'))"
      ],
      "metadata": {
        "id": "Agli0m0Fm3W2"
      },
      "execution_count": null,
      "outputs": []
    },
    {
      "cell_type": "markdown",
      "source": [
        "## Pułapki - strukutra strony\n",
        "Spróbujmy pobrać tekst wszystkich przemówień prezesów podczas konferencji prasowej [ECB](https://www.ecb.europa.eu/press/pressconf/html/index.pl.html)"
      ],
      "metadata": {
        "id": "oPWc217oyhmT"
      }
    },
    {
      "cell_type": "code",
      "source": [
        "webURL = \"https://www.ecb.europa.eu/press/pressconf/html/index.pl.html\"\n",
        "page = requests.get(webURL, headers = headers)\n",
        "soup = BeautifulSoup(page.content, 'html.parser', from_encoding=\"utf-8\")\n",
        "\n",
        "temp = soup.find_all('a')"
      ],
      "metadata": {
        "id": "XmAIhMh1yh6p"
      },
      "execution_count": null,
      "outputs": []
    },
    {
      "cell_type": "code",
      "source": [
        "temp"
      ],
      "metadata": {
        "id": "lN8C3fMOzOXG",
        "collapsed": true
      },
      "execution_count": null,
      "outputs": []
    },
    {
      "cell_type": "markdown",
      "source": [
        "## Strony z interakcjami - Selenium\n",
        "\n",
        "Beautiful Soup to ciekawe rozwiązanie dla prostych stron. Czasem jednak potrzebne są bardziej zaawansowane rozwiązania. W takim przypadku pomaga biblioteka Selenium.\n",
        "\n",
        "Fizycznie uruchamia ona przeglądarkę i pozwala na sterowanie nią za pomocą kodu.\n",
        "\n",
        "Do jej wdrożenia potrzebna jest instalacja sterownika.\n",
        "https://www.selenium.dev/documentation/webdriver/\n",
        "\n",
        "\n",
        "Dla przeglądarki Chrome informacje znajdują się tutaj:\n",
        "https://chromedriver.chromium.org/downloads\n"
      ],
      "metadata": {
        "id": "cHOqoVxenwET"
      }
    },
    {
      "cell_type": "code",
      "source": [],
      "metadata": {
        "id": "7aWFwnDKnvu7"
      },
      "execution_count": null,
      "outputs": []
    },
    {
      "cell_type": "markdown",
      "source": [
        "Wykonanie tych instalacji jest czasochłonne - zobaczymy przykłady bezpośrednio na moim komputerze."
      ],
      "metadata": {
        "id": "krjjSZo0ptmr"
      }
    },
    {
      "cell_type": "markdown",
      "source": [
        "## Co dalej\n",
        "\n",
        "Poczas kursu nauczyliśmy sie korzystać z różnych API.\n",
        "\n",
        "Mechanizmy te są uniwersalne - można je wykorzystać także do innych baz danych.\n",
        "\n",
        "Listing tego typu baz danych prowadzony jest na stronie:\n",
        "https://github.com/public-apis/public-apis#open-data\n",
        "\n",
        "Zachęcam do eksplorowania w razie potrzeby."
      ],
      "metadata": {
        "id": "JoSxRYMKp041"
      }
    }
  ]
}